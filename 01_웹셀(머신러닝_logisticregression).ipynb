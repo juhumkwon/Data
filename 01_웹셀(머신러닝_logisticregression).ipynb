{
  "nbformat": 4,
  "nbformat_minor": 0,
  "metadata": {
    "colab": {
      "provenance": [],
      "authorship_tag": "ABX9TyPfNxLhBS3+oEzIZ6VnZvQi",
      "include_colab_link": true
    },
    "kernelspec": {
      "name": "python3",
      "display_name": "Python 3"
    },
    "language_info": {
      "name": "python"
    }
  },
  "cells": [
    {
      "cell_type": "markdown",
      "metadata": {
        "id": "view-in-github",
        "colab_type": "text"
      },
      "source": [
        "<a href=\"https://colab.research.google.com/github/juhumkwon/Data/blob/main/01_%EC%9B%B9%EC%85%80(%EB%A8%B8%EC%8B%A0%EB%9F%AC%EB%8B%9D_logisticregression).ipynb\" target=\"_parent\"><img src=\"https://colab.research.google.com/assets/colab-badge.svg\" alt=\"Open In Colab\"/></a>"
      ]
    },
    {
      "cell_type": "code",
      "execution_count": 4,
      "metadata": {
        "colab": {
          "base_uri": "https://localhost:8080/"
        },
        "id": "G6piGWZ1psey",
        "outputId": "24765626-8045-43df-940b-f42451d51af8"
      },
      "outputs": [
        {
          "output_type": "stream",
          "name": "stdout",
          "text": [
            "[WebShell Detected] \n",
            "→ <?php echo \"관리자 페이지입니다.\"; ?> \n",
            "\n",
            "[WebShell Detected] \n",
            "→ <?php eval(base64_decode($_GET[\"cmd\"])); ?> \n",
            "\n",
            "[WebShell Detected] \n",
            "→ <?php include(\"menu.php\"); echo $content; ?> \n",
            "\n",
            "[WebShell Detected] \n",
            "→ <?php system(\"ls\"); ?> \n",
            "\n"
          ]
        }
      ],
      "source": [
        "# 웹셸 탐지기 예제 (머신러닝 기반)\n",
        "\n",
        "import os\n",
        "import re\n",
        "import numpy as np\n",
        "from sklearn.feature_extraction.text import TfidfVectorizer\n",
        "from sklearn.linear_model import LogisticRegression\n",
        "\n",
        "# 1. 학습 데이터 (정상 PHP, 웹셸 PHP 코드 샘플)\n",
        "normal_php = [\n",
        "    '<?php echo \"Hello, world!\"; ?>',\n",
        "    '<?php $title = \"홈페이지\"; include(\"header.php\"); ?>',\n",
        "    '<?php if ($_SERVER[\"REQUEST_METHOD\"] == \"POST\") { echo \"처리중\"; } ?>'\n",
        "]\n",
        "\n",
        "webshell_php = [\n",
        "    '<?php eval($_GET[\"cmd\"]); ?>',\n",
        "    '<?php system($_POST[\"cmd\"]); ?>',\n",
        "    '<?php echo base64_decode($_REQUEST[\"x\"]); ?>',\n",
        "    '<?php passthru($_GET[\"exec\"]); ?>',\n",
        "    '<?php $code = $_POST[\"x\"]; eval(base64_decode($code)); ?>'\n",
        "]\n",
        "\n",
        "X_data = normal_php + webshell_php\n",
        "y_labels = [0] * len(normal_php) + [1] * len(webshell_php)  # 0=정상, 1=웹셸\n",
        "\n",
        "# 2. 벡터화 (단어 → 숫자)\n",
        "vectorizer = TfidfVectorizer(token_pattern=r'\\b\\w+\\b', lowercase=True)\n",
        "X_vectorized = vectorizer.fit_transform(X_data)\n",
        "\n",
        "# 3. 모델 학습 (로지스틱 회귀)\n",
        "# clf = LogisticRegression(C=1.0, penalty='l2', solver='liblinear', max_iter=1000)\n",
        "clf = LogisticRegression(max_iter=1000)\n",
        "clf.fit(X_vectorized, y_labels)\n",
        "\n",
        "# 4. 예측 테스트\n",
        "test_code = [\n",
        "    '<?php echo \"관리자 페이지입니다.\"; ?>',                    # 정상\n",
        "    '<?php eval(base64_decode($_GET[\"cmd\"])); ?>',              # 웹셸\n",
        "    '<?php include(\"menu.php\"); echo $content; ?>',             # 정상\n",
        "    '<?php system(\"ls\"); ?>',                                   # 웹셸\n",
        "]\n",
        "\n",
        "X_test = vectorizer.transform(test_code)\n",
        "predictions = clf.predict(X_test)\n",
        "\n",
        "# 5. 결과 출력\n",
        "for code, pred in zip(test_code, predictions):\n",
        "    print(\"[WebShell Detected]\" if pred == 1 else \"[Normal Code]\", \"\\n→\", code[:60], \"\\n\")\n"
      ]
    }
  ]
}