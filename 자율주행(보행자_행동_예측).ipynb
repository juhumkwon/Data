{
  "nbformat": 4,
  "nbformat_minor": 0,
  "metadata": {
    "colab": {
      "provenance": [],
      "authorship_tag": "ABX9TyNV+6qcUNkEkglRJ1bEPlHw",
      "include_colab_link": true
    },
    "kernelspec": {
      "name": "python3",
      "display_name": "Python 3"
    },
    "language_info": {
      "name": "python"
    }
  },
  "cells": [
    {
      "cell_type": "markdown",
      "metadata": {
        "id": "view-in-github",
        "colab_type": "text"
      },
      "source": [
        "<a href=\"https://colab.research.google.com/github/juhumkwon/Data/blob/main/%EC%9E%90%EC%9C%A8%EC%A3%BC%ED%96%89(%EB%B3%B4%ED%96%89%EC%9E%90_%ED%96%89%EB%8F%99_%EC%98%88%EC%B8%A1).ipynb\" target=\"_parent\"><img src=\"https://colab.research.google.com/assets/colab-badge.svg\" alt=\"Open In Colab\"/></a>"
      ]
    },
    {
      "cell_type": "code",
      "execution_count": 2,
      "metadata": {
        "colab": {
          "base_uri": "https://localhost:8080/"
        },
        "id": "DJrUv2M5zPMX",
        "outputId": "1bec99e6-1cb6-4502-fc01-92ec95ec1aaf"
      },
      "outputs": [
        {
          "output_type": "stream",
          "name": "stderr",
          "text": [
            "/tmp/ipython-input-2-658772612.py:16: UserWarning: `input_shape` is undefined or non-square, or `rows` is not in [96, 128, 160, 192, 224]. Weights for input shape (224, 224) will be loaded as the default.\n",
            "  cnn = tf.keras.applications.MobileNetV2(include_top=False, pooling=\"avg\")\n"
          ]
        },
        {
          "output_type": "stream",
          "name": "stdout",
          "text": [
            "예측 확률: 0.51614964\n"
          ]
        }
      ],
      "source": [
        "# === 단일 셀: CNN + Transformer + Attention Score 출력 예제 ===\n",
        "import tensorflow as tf\n",
        "from tensorflow.keras import layers, Model\n",
        "import numpy as np\n",
        "\n",
        "# ---------------- 설정 ----------------\n",
        "SEQ_LEN   = 32\n",
        "IMG_SHAPE = (224, 224, 3)\n",
        "EMBED_DIM = 512\n",
        "NUM_HEADS = 2\n",
        "\n",
        "# 1) 입력\n",
        "video_input = tf.keras.Input((SEQ_LEN, *IMG_SHAPE), name=\"video\")\n",
        "\n",
        "# 2) CNN 백본 (MobileNetV2) → 프레임 feature\n",
        "cnn = tf.keras.applications.MobileNetV2(include_top=False, pooling=\"avg\")\n",
        "cnn.trainable = False\n",
        "x = layers.TimeDistributed(cnn)(video_input)          # (B, 32, 1280)\n",
        "x = layers.Dense(EMBED_DIM)(x)                        # (B, 32, 512)\n",
        "\n",
        "# 3) Positional Encoding\n",
        "pos = tf.range(SEQ_LEN)\n",
        "x += layers.Embedding(SEQ_LEN, EMBED_DIM)(pos)\n",
        "\n",
        "# 4) Multi‑Head Self‑Attention (scores 반환)\n",
        "attn_layer = layers.MultiHeadAttention(\n",
        "    num_heads=NUM_HEADS, key_dim=64\n",
        ")\n",
        "attn_out = attn_layer(x, x)              # attn_scores: (B, H, 32, 32)\n",
        "\n",
        "# 5) 분류 헤드 (crossing 예/아니오)\n",
        "z = layers.GlobalAveragePooling1D()(attn_out)\n",
        "z = layers.Dense(128, activation=\"relu\")(z)\n",
        "output = layers.Dense(1, activation=\"sigmoid\")(z)\n",
        "\n",
        "# 6) 모델\n",
        "model = Model(video_input, output)\n",
        "model.compile(loss=\"binary_crossentropy\",\n",
        "              optimizer=tf.keras.optimizers.Adam(1e-4))\n",
        "\n",
        "# 7) 더미 시퀀스 → forward → Attention score 확인\n",
        "dummy = np.random.rand(1, SEQ_LEN, *IMG_SHAPE).astype(np.float32)\n",
        "pred = model(dummy)\n",
        "print(\"예측 확률:\", pred.numpy().squeeze())"
      ]
    }
  ]
}