{
  "nbformat": 4,
  "nbformat_minor": 0,
  "metadata": {
    "colab": {
      "provenance": [],
      "authorship_tag": "ABX9TyPFlE9wXHeAsXmsABxpf2CF",
      "include_colab_link": true
    },
    "kernelspec": {
      "name": "python3",
      "display_name": "Python 3"
    },
    "language_info": {
      "name": "python"
    }
  },
  "cells": [
    {
      "cell_type": "markdown",
      "metadata": {
        "id": "view-in-github",
        "colab_type": "text"
      },
      "source": [
        "<a href=\"https://colab.research.google.com/github/juhumkwon/Data/blob/main/%EB%B9%84%EC%A0%95%ED%98%95%ED%8C%8C%EC%9D%BC2XML.ipynb\" target=\"_parent\"><img src=\"https://colab.research.google.com/assets/colab-badge.svg\" alt=\"Open In Colab\"/></a>"
      ]
    },
    {
      "cell_type": "code",
      "execution_count": 2,
      "metadata": {
        "colab": {
          "base_uri": "https://localhost:8080/"
        },
        "id": "Qnyd5thKCHi_",
        "outputId": "98c49434-4e4d-4f1d-f6fd-7b72b3f708e1"
      },
      "outputs": [
        {
          "output_type": "stream",
          "name": "stdout",
          "text": [
            "Requirement already satisfied: transformers in /usr/local/lib/python3.11/dist-packages (4.53.2)\n",
            "Requirement already satisfied: sentencepiece in /usr/local/lib/python3.11/dist-packages (0.2.0)\n",
            "Requirement already satisfied: filelock in /usr/local/lib/python3.11/dist-packages (from transformers) (3.18.0)\n",
            "Requirement already satisfied: huggingface-hub<1.0,>=0.30.0 in /usr/local/lib/python3.11/dist-packages (from transformers) (0.33.4)\n",
            "Requirement already satisfied: numpy>=1.17 in /usr/local/lib/python3.11/dist-packages (from transformers) (2.0.2)\n",
            "Requirement already satisfied: packaging>=20.0 in /usr/local/lib/python3.11/dist-packages (from transformers) (25.0)\n",
            "Requirement already satisfied: pyyaml>=5.1 in /usr/local/lib/python3.11/dist-packages (from transformers) (6.0.2)\n",
            "Requirement already satisfied: regex!=2019.12.17 in /usr/local/lib/python3.11/dist-packages (from transformers) (2024.11.6)\n",
            "Requirement already satisfied: requests in /usr/local/lib/python3.11/dist-packages (from transformers) (2.32.3)\n",
            "Requirement already satisfied: tokenizers<0.22,>=0.21 in /usr/local/lib/python3.11/dist-packages (from transformers) (0.21.2)\n",
            "Requirement already satisfied: safetensors>=0.4.3 in /usr/local/lib/python3.11/dist-packages (from transformers) (0.5.3)\n",
            "Requirement already satisfied: tqdm>=4.27 in /usr/local/lib/python3.11/dist-packages (from transformers) (4.67.1)\n",
            "Requirement already satisfied: fsspec>=2023.5.0 in /usr/local/lib/python3.11/dist-packages (from huggingface-hub<1.0,>=0.30.0->transformers) (2025.3.2)\n",
            "Requirement already satisfied: typing-extensions>=3.7.4.3 in /usr/local/lib/python3.11/dist-packages (from huggingface-hub<1.0,>=0.30.0->transformers) (4.14.1)\n",
            "Requirement already satisfied: hf-xet<2.0.0,>=1.1.2 in /usr/local/lib/python3.11/dist-packages (from huggingface-hub<1.0,>=0.30.0->transformers) (1.1.5)\n",
            "Requirement already satisfied: charset-normalizer<4,>=2 in /usr/local/lib/python3.11/dist-packages (from requests->transformers) (3.4.2)\n",
            "Requirement already satisfied: idna<4,>=2.5 in /usr/local/lib/python3.11/dist-packages (from requests->transformers) (3.10)\n",
            "Requirement already satisfied: urllib3<3,>=1.21.1 in /usr/local/lib/python3.11/dist-packages (from requests->transformers) (2.4.0)\n",
            "Requirement already satisfied: certifi>=2017.4.17 in /usr/local/lib/python3.11/dist-packages (from requests->transformers) (2025.7.14)\n"
          ]
        }
      ],
      "source": [
        "!pip install transformers sentencepiece"
      ]
    },
    {
      "cell_type": "code",
      "source": [
        "\n",
        "import xml.etree.ElementTree as ET\n",
        "from xml.dom import minidom\n",
        "\n",
        "# 구조화된 정보\n",
        "extracted_info = {\n",
        "    \"vendor\": \"LG CNS\",\n",
        "    \"date\": \"2025-07-18\",\n",
        "    \"amount\": \"5000\"\n",
        "}\n",
        "\n",
        "# XML Element 생성\n",
        "invoice = ET.Element(\"invoice\")\n",
        "ET.SubElement(invoice, \"vendor\").text = extracted_info[\"vendor\"]\n",
        "ET.SubElement(invoice, \"date\").text = extracted_info[\"date\"]\n",
        "ET.SubElement(invoice, \"amount\").text = extracted_info[\"amount\"]\n",
        "\n",
        "# 문자열로 변환 (Pretty Print)\n",
        "rough_string = ET.tostring(invoice, 'utf-8')\n",
        "reparsed = minidom.parseString(rough_string)\n",
        "pretty_xml = reparsed.toprettyxml(indent=\"  \")   # 들여쓰기 2칸\n",
        "\n",
        "print(\"[XML Output]:\")\n",
        "print(pretty_xml)\n"
      ],
      "metadata": {
        "colab": {
          "base_uri": "https://localhost:8080/"
        },
        "id": "Kg2K_ggkCLQw",
        "outputId": "58c9c99c-a44a-49a0-8bf2-77819affcc55"
      },
      "execution_count": 6,
      "outputs": [
        {
          "output_type": "stream",
          "name": "stdout",
          "text": [
            "[XML Output]:\n",
            "<?xml version=\"1.0\" ?>\n",
            "<invoice>\n",
            "  <vendor>LG CNS</vendor>\n",
            "  <date>2025-07-18</date>\n",
            "  <amount>5000</amount>\n",
            "</invoice>\n",
            "\n"
          ]
        }
      ]
    },
    {
      "cell_type": "code",
      "source": [
        "from transformers import T5Tokenizer, T5ForConditionalGeneration\n",
        "import xml.etree.ElementTree as ET\n",
        "from xml.dom import minidom\n",
        "\n",
        "# 1. 모델 로딩 (T5-small)\n",
        "tokenizer = T5Tokenizer.from_pretrained(\"t5-small\")\n",
        "model = T5ForConditionalGeneration.from_pretrained(\"t5-small\")\n",
        "\n",
        "# 2. 입력 자연어 문장\n",
        "input_text = \"Invoice from LG CNS dated July 18, 2025, with a total amount of $5000.\"\n",
        "\n",
        "# 3. 프롬프트를 활용한 구조적 출력 유도 (XML 생성 지시)\n",
        "prompt = (\n",
        "    \"Extract information and return XML:\\n\"\n",
        "    \"Vendor: LG CNS\\n\"\n",
        "    \"Date: July 18, 2025\\n\"\n",
        "    \"Amount: $5000\"\n",
        ")\n",
        "\n",
        "# 4. 모델 추론\n",
        "inputs = tokenizer(prompt, return_tensors=\"pt\")\n",
        "output = model.generate(**inputs, max_length=128)\n",
        "decoded_output = tokenizer.decode(output[0], skip_special_tokens=True)\n",
        "\n",
        "# 5. 추론 결과 출력 (그대로 출력)\n",
        "print(\"[T5 모델 출력]:\")\n",
        "print(decoded_output)\n",
        "\n",
        "# 6. XML Element 구조로 직접 만들기 (보완된 형태로)\n",
        "extracted_info = {\n",
        "    \"vendor\": \"LG CNS\",\n",
        "    \"date\": \"2025-07-18\",\n",
        "    \"amount\": \"5000\"\n",
        "}\n",
        "\n",
        "invoice = ET.Element(\"invoice\")\n",
        "ET.SubElement(invoice, \"vendor\").text = extracted_info[\"vendor\"]\n",
        "ET.SubElement(invoice, \"date\").text = extracted_info[\"date\"]\n",
        "ET.SubElement(invoice, \"amount\").text = extracted_info[\"amount\"]\n",
        "\n",
        "# 7. 예쁘게 출력\n",
        "rough_string = ET.tostring(invoice, 'utf-8')\n",
        "reparsed = minidom.parseString(rough_string)\n",
        "pretty_xml = reparsed.toprettyxml(indent=\"  \")\n",
        "\n",
        "print(\"\\n[Final XML Output]:\")\n",
        "print(pretty_xml)\n"
      ],
      "metadata": {
        "colab": {
          "base_uri": "https://localhost:8080/"
        },
        "id": "womrMczkEeqA",
        "outputId": "4eb74109-9602-4e8f-f532-b2ba4b4bafa5"
      },
      "execution_count": 7,
      "outputs": [
        {
          "output_type": "stream",
          "name": "stdout",
          "text": [
            "[T5 모델 출력]:\n",
            "Extract information and return XML: Vendor: LG CNS Date: July 18, 2025 Mont\n",
            "\n",
            "[Final XML Output]:\n",
            "<?xml version=\"1.0\" ?>\n",
            "<invoice>\n",
            "  <vendor>LG CNS</vendor>\n",
            "  <date>2025-07-18</date>\n",
            "  <amount>5000</amount>\n",
            "</invoice>\n",
            "\n"
          ]
        }
      ]
    },
    {
      "cell_type": "code",
      "source": [
        "# TensorFlow 기반 T5 모델 + XML 출력 예제 (한 셀)\n",
        "\n",
        "from transformers import T5Tokenizer, TFT5ForConditionalGeneration\n",
        "import xml.etree.ElementTree as ET\n",
        "from xml.dom import minidom\n",
        "import tensorflow as tf\n",
        "\n",
        "# 1. 모델 및 토크나이저 로딩 (TensorFlow 버전)\n",
        "tokenizer = T5Tokenizer.from_pretrained(\"t5-small\")\n",
        "model = TFT5ForConditionalGeneration.from_pretrained(\"t5-small\")\n",
        "\n",
        "# 2. 입력 문장\n",
        "input_text = \"Invoice from LG CNS dated July 18, 2025, with a total amount of $5000.\"\n",
        "\n",
        "# 3. 프롬프트 설정 (T5는 명시적 지시가 중요)\n",
        "prompt = (\n",
        "    \"Extract information and return XML:\\n\"\n",
        "    \"Vendor: LG CNS\\n\"\n",
        "    \"Date: July 18, 2025\\n\"\n",
        "    \"Amount: $5000\"\n",
        ")\n",
        "\n",
        "# 4. 토큰화 (TensorFlow tensor로 반환)\n",
        "inputs = tokenizer(prompt, return_tensors=\"tf\")\n",
        "\n",
        "# 5. 모델 추론\n",
        "output = model.generate(**inputs, max_length=128)\n",
        "decoded_output = tokenizer.decode(output[0], skip_special_tokens=True)\n",
        "\n",
        "# 6. 결과 출력 (T5 모델 생성 결과)\n",
        "print(\"[T5 모델 출력]:\")\n",
        "print(decoded_output)\n",
        "\n",
        "# 7. 구조화된 XML 직접 생성 (보완된 형태)\n",
        "extracted_info = {\n",
        "    \"vendor\": \"LG CNS\",\n",
        "    \"date\": \"2025-07-18\",\n",
        "    \"amount\": \"5000\"\n",
        "}\n",
        "\n",
        "invoice = ET.Element(\"invoice\")\n",
        "ET.SubElement(invoice, \"vendor\").text = extracted_info[\"vendor\"]\n",
        "ET.SubElement(invoice, \"date\").text = extracted_info[\"date\"]\n",
        "ET.SubElement(invoice, \"amount\").text = extracted_info[\"amount\"]\n",
        "\n",
        "# 8. 예쁘게 XML 출력\n",
        "rough_string = ET.tostring(invoice, 'utf-8')\n",
        "reparsed = minidom.parseString(rough_string)\n",
        "pretty_xml = reparsed.toprettyxml(indent=\"  \")\n",
        "\n",
        "print(\"\\n[Final XML Output]:\")\n",
        "print(pretty_xml)\n"
      ],
      "metadata": {
        "colab": {
          "base_uri": "https://localhost:8080/"
        },
        "id": "RvTZkC5kFOv5",
        "outputId": "00ef6d9c-2b30-4fcb-9580-85b248bc99d4"
      },
      "execution_count": 8,
      "outputs": [
        {
          "output_type": "stream",
          "name": "stderr",
          "text": [
            "TensorFlow and JAX classes are deprecated and will be removed in Transformers v5. We recommend migrating to PyTorch classes or pinning your version of Transformers.\n",
            "All PyTorch model weights were used when initializing TFT5ForConditionalGeneration.\n",
            "\n",
            "All the weights of TFT5ForConditionalGeneration were initialized from the PyTorch model.\n",
            "If your task is similar to the task the model of the checkpoint was trained on, you can already use TFT5ForConditionalGeneration for predictions without further training.\n",
            "TensorFlow and JAX classes are deprecated and will be removed in Transformers v5. We recommend migrating to PyTorch classes or pinning your version of Transformers.\n"
          ]
        },
        {
          "output_type": "stream",
          "name": "stdout",
          "text": [
            "[T5 모델 출력]:\n",
            "Extract information and return XML: Vendor: LG CNS Date: July 18, 2025 Mont\n",
            "\n",
            "[Final XML Output]:\n",
            "<?xml version=\"1.0\" ?>\n",
            "<invoice>\n",
            "  <vendor>LG CNS</vendor>\n",
            "  <date>2025-07-18</date>\n",
            "  <amount>5000</amount>\n",
            "</invoice>\n",
            "\n"
          ]
        }
      ]
    }
  ]
}