{
  "nbformat": 4,
  "nbformat_minor": 0,
  "metadata": {
    "colab": {
      "provenance": [],
      "name": "02_웹셀(deeplearning_lstm).ipynb",
      "authorship_tag": "ABX9TyOMlKGGfloVuFedXDBuffmM",
      "include_colab_link": true
    },
    "kernelspec": {
      "name": "python3",
      "display_name": "Python 3"
    },
    "language_info": {
      "name": "python"
    }
  },
  "cells": [
    {
      "cell_type": "markdown",
      "metadata": {
        "id": "view-in-github",
        "colab_type": "text"
      },
      "source": [
        "<a href=\"https://colab.research.google.com/github/juhumkwon/Data/blob/main/02_%EC%9B%B9%EC%85%80(deeplearning_lstm).ipynb\" target=\"_parent\"><img src=\"https://colab.research.google.com/assets/colab-badge.svg\" alt=\"Open In Colab\"/></a>"
      ]
    },
    {
      "cell_type": "code",
      "execution_count": 4,
      "metadata": {
        "colab": {
          "base_uri": "https://localhost:8080/"
        },
        "id": "mEMFt4cerF-F",
        "outputId": "5d61f9b9-3305-490c-ffaf-2366356a111d"
      },
      "outputs": [
        {
          "output_type": "stream",
          "name": "stdout",
          "text": [
            "\u001b[1m1/1\u001b[0m \u001b[32m━━━━━━━━━━━━━━━━━━━━\u001b[0m\u001b[37m\u001b[0m \u001b[1m0s\u001b[0m 217ms/step\n",
            "[정상] → <?php echo \"관리자 페이지입니다.\"; ?>\n",
            "[웹셸] → <?php eval(base64_decode($_GET[\"cmd\"])); ?>\n",
            "[정상] → <?php echo shell_exec($_POST[\"cmd\"]); ?>\n",
            "[정상] → <?php include(\"footer.php\"); ?>\n"
          ]
        }
      ],
      "source": [
        "# ✅ 웹셸 탐지 딥러닝 예제 (LSTM 기반)\n",
        "# 코랩에서 실행 가능\n",
        "import tensorflow as tf\n",
        "from tensorflow.keras.preprocessing.text import Tokenizer\n",
        "from tensorflow.keras.preprocessing.sequence import pad_sequences\n",
        "from tensorflow.keras.models import Sequential\n",
        "from tensorflow.keras.layers import Embedding, LSTM, Dense\n",
        "import numpy as np\n",
        "\n",
        "# 1. 샘플 데이터 (정상 PHP 코드 & 웹셸 코드)\n",
        "normal_php = [\n",
        "    '<?php echo \"Hello, world!\"; ?>',\n",
        "    '<?php include(\"menu.php\"); echo $content; ?>',\n",
        "    '<?php if ($_POST[\"id\"] == \"admin\") { echo \"hi\"; } ?>'\n",
        "]\n",
        "\n",
        "webshell_php = [\n",
        "    '<?php eval($_GET[\"cmd\"]); ?>',\n",
        "    '<?php system(\"ls\"); ?>',\n",
        "    '<?php echo base64_decode($_REQUEST[\"x\"]); ?>',\n",
        "    '<?php passthru($_GET[\"exec\"]); ?>',\n",
        "    '<?php eval(base64_decode($_POST[\"x\"])); ?>'\n",
        "]\n",
        "\n",
        "texts = normal_php + webshell_php\n",
        "labels = [0] * len(normal_php) + [1] * len(webshell_php)  # 0=정상, 1=웹셸\n",
        "\n",
        "# 2. 토큰화 및 시퀀스 변환\n",
        "tokenizer = Tokenizer(num_words=1000, oov_token='<OOV>')\n",
        "tokenizer.fit_on_texts(texts)\n",
        "sequences = tokenizer.texts_to_sequences(texts)\n",
        "\n",
        "# 3. 패딩\n",
        "max_len = max(len(seq) for seq in sequences)\n",
        "padded = pad_sequences(sequences, maxlen=max_len, padding='post')\n",
        "\n",
        "# 4. LSTM 모델 정의\n",
        "model = Sequential([\n",
        "    Embedding(input_dim=1000, output_dim=32, input_length=max_len),\n",
        "    LSTM(64),  # ← LSTM 적용\n",
        "    Dense(16, activation='relu'),\n",
        "    Dense(1, activation='sigmoid')  # 이진 분류\n",
        "])\n",
        "\n",
        "model.compile(optimizer='adam', loss='binary_crossentropy', metrics=['accuracy'])\n",
        "# model.summary()\n",
        "\n",
        "# 5. 학습\n",
        "X_train = np.array(padded)\n",
        "y_train = np.array(labels)\n",
        "model.fit(X_train, y_train, epochs=100, verbose=0)\n",
        "\n",
        "# 6. 테스트 코드 예시\n",
        "test_codes = [\n",
        "    '<?php echo \"관리자 페이지입니다.\"; ?>',          # 정상\n",
        "    '<?php eval(base64_decode($_GET[\"cmd\"])); ?>',    # 웹셀\n",
        "    '<?php echo shell_exec($_POST[\"cmd\"]); ?>',       # 웹셀\n",
        "    '<?php include(\"footer.php\"); ?>'                 # 정상\n",
        "]\n",
        "\n",
        "test_seq = tokenizer.texts_to_sequences(test_codes)\n",
        "test_pad = pad_sequences(test_seq, maxlen=max_len, padding='post')\n",
        "pred = model.predict(test_pad)\n",
        "\n",
        "# 7. 결과 출력\n",
        "for i, code in enumerate(test_codes):\n",
        "    label = \"웹셸\" if pred[i] > 0.5 else \"정상\"\n",
        "    print(f\"[{label}] → {code.strip()[:60]}\")\n"
      ]
    }
  ]
}