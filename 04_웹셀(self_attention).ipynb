{
  "nbformat": 4,
  "nbformat_minor": 0,
  "metadata": {
    "colab": {
      "provenance": [],
      "name": "04_웹셀(self_attention).ipynb",
      "authorship_tag": "ABX9TyPQiNIJiKXZUHmL+XV71faj",
      "include_colab_link": true
    },
    "kernelspec": {
      "name": "python3",
      "display_name": "Python 3"
    },
    "language_info": {
      "name": "python"
    }
  },
  "cells": [
    {
      "cell_type": "markdown",
      "metadata": {
        "id": "view-in-github",
        "colab_type": "text"
      },
      "source": [
        "<a href=\"https://colab.research.google.com/github/juhumkwon/Data/blob/main/04_%EC%9B%B9%EC%85%80(self_attention).ipynb\" target=\"_parent\"><img src=\"https://colab.research.google.com/assets/colab-badge.svg\" alt=\"Open In Colab\"/></a>"
      ]
    },
    {
      "cell_type": "code",
      "execution_count": 2,
      "metadata": {
        "colab": {
          "base_uri": "https://localhost:8080/"
        },
        "id": "iebo7CMCl2TN",
        "outputId": "d216c8ba-a50f-49d5-afdd-e44ee1c2f00d"
      },
      "outputs": [
        {
          "output_type": "stream",
          "name": "stdout",
          "text": [
            "\u001b[1m1/1\u001b[0m \u001b[32m━━━━━━━━━━━━━━━━━━━━\u001b[0m\u001b[37m\u001b[0m \u001b[1m0s\u001b[0m 76ms/step\n",
            "[정상] → <?php echo \"관리자 페이지입니다.\"; ?>\n",
            "[웹셸] → <?php eval(base64_decode($_GET[\"cmd\"])); ?>\n",
            "[웹셸] → <?php echo shell_exec($_POST[\"cmd\"]); ?>\n",
            "[정상] → <?php include(\"footer.php\"); ?>\n"
          ]
        }
      ],
      "source": [
        "\n",
        "import tensorflow as tf\n",
        "from tensorflow.keras.layers import Layer, Input, Embedding, Dense\n",
        "from tensorflow.keras.models import Model\n",
        "from tensorflow.keras.preprocessing.text import Tokenizer\n",
        "from tensorflow.keras.preprocessing.sequence import pad_sequences\n",
        "import numpy as np\n",
        "\n",
        "# 1. 샘플 데이터\n",
        "normal_php = [\n",
        "    '<?php echo \"Hello, world!\"; ?>',\n",
        "    '<?php include(\"menu.php\"); echo $content; ?>',\n",
        "    '<?php if ($_POST[\"id\"] == \"admin\") { echo \"hi\"; } ?>'\n",
        "]\n",
        "\n",
        "webshell_php = [\n",
        "    '<?php eval($_GET[\"cmd\"]); ?>',\n",
        "    '<?php system(\"ls\"); ?>',\n",
        "    '<?php echo base64_decode($_REQUEST[\"x\"]); ?>',\n",
        "    '<?php passthru($_GET[\"exec\"]); ?>',\n",
        "    '<?php eval(base64_decode($_POST[\"x\"])); ?>'\n",
        "]\n",
        "\n",
        "texts = normal_php + webshell_php\n",
        "labels = [0] * len(normal_php) + [1] * len(webshell_php)\n",
        "\n",
        "# 2. 토큰화 및 패딩\n",
        "tokenizer = Tokenizer(num_words=1000, oov_token='<OOV>')\n",
        "tokenizer.fit_on_texts(texts)\n",
        "sequences = tokenizer.texts_to_sequences(texts)\n",
        "max_len = max(len(seq) for seq in sequences)\n",
        "padded = pad_sequences(sequences, maxlen=max_len, padding='post')\n",
        "\n",
        "X_train = np.array(padded)\n",
        "y_train = np.array(labels)\n",
        "\n",
        "# 3. Scaled Dot-Product Self-Attention Layer\n",
        "class SelfAttention(Layer):\n",
        "    def __init__(self, d_model, **kwargs):\n",
        "        super(SelfAttention, self).__init__(**kwargs)\n",
        "        self.d_model = d_model\n",
        "\n",
        "    def build(self, input_shape):\n",
        "        self.Wq = self.add_weight(shape=(input_shape[-1], self.d_model),\n",
        "                                  initializer='glorot_uniform',\n",
        "                                  trainable=True,\n",
        "                                  name=\"Wq\")\n",
        "        self.Wk = self.add_weight(shape=(input_shape[-1], self.d_model),\n",
        "                                  initializer='glorot_uniform',\n",
        "                                  trainable=True,\n",
        "                                  name=\"Wk\")\n",
        "        self.Wv = self.add_weight(shape=(input_shape[-1], self.d_model),\n",
        "                                  initializer='glorot_uniform',\n",
        "                                  trainable=True,\n",
        "                                  name=\"Wv\")\n",
        "\n",
        "    def call(self, inputs):\n",
        "        # inputs: (batch_size, seq_len, embedding_dim)\n",
        "        Q = tf.matmul(inputs, self.Wq)  # (batch, seq_len, d_model)\n",
        "        K = tf.matmul(inputs, self.Wk)  # (batch, seq_len, d_model)\n",
        "        V = tf.matmul(inputs, self.Wv)  # (batch, seq_len, d_model)\n",
        "\n",
        "        # scaled dot-product attention\n",
        "        matmul_qk = tf.matmul(Q, K, transpose_b=True)  # (batch, seq_len, seq_len)\n",
        "\n",
        "        dk = tf.cast(tf.shape(K)[-1], tf.float32)\n",
        "        scaled_attention_logits = matmul_qk / tf.math.sqrt(dk)\n",
        "\n",
        "        attention_weights = tf.nn.softmax(scaled_attention_logits, axis=-1)  # (batch, seq_len, seq_len)\n",
        "\n",
        "        output = tf.matmul(attention_weights, V)  # (batch, seq_len, d_model)\n",
        "\n",
        "        # 문장 벡터로 압축: 평균 풀링\n",
        "        return tf.reduce_mean(output, axis=1)  # (batch, d_model)\n",
        "\n",
        "# 4. 모델 정의\n",
        "vocab_size = 1000\n",
        "embedding_dim = 64\n",
        "d_model = 64\n",
        "\n",
        "inputs = Input(shape=(max_len,))\n",
        "x = Embedding(input_dim=vocab_size, output_dim=embedding_dim, input_length=max_len)(inputs)\n",
        "x = SelfAttention(d_model=d_model)(x)\n",
        "x = Dense(32, activation='relu')(x)\n",
        "outputs = Dense(1, activation='sigmoid')(x)\n",
        "\n",
        "model = Model(inputs, outputs)\n",
        "model.compile(optimizer='adam', loss='binary_crossentropy', metrics=['accuracy'])\n",
        "# model.summary()\n",
        "\n",
        "# 5. 학습\n",
        "model.fit(X_train, y_train, epochs=200, verbose=0)\n",
        "\n",
        "# 6. 테스트\n",
        "test_codes = [\n",
        "    '<?php echo \"관리자 페이지입니다.\"; ?>',         # 정상\n",
        "    '<?php eval(base64_decode($_GET[\"cmd\"])); ?>',   # 웹셀\n",
        "    '<?php echo shell_exec($_POST[\"cmd\"]); ?>',      # 웹셀\n",
        "    '<?php include(\"footer.php\"); ?>'                # 정상\n",
        "]\n",
        "\n",
        "test_seq = tokenizer.texts_to_sequences(test_codes)\n",
        "test_pad = pad_sequences(test_seq, maxlen=max_len, padding='post')\n",
        "pred = model.predict(test_pad)\n",
        "\n",
        "for i, code in enumerate(test_codes):\n",
        "    label = \"웹셸\" if pred[i] > 0.5 else \"정상\"\n",
        "    print(f\"[{label}] → {code.strip()[:60]}\")"
      ]
    }
  ]
}